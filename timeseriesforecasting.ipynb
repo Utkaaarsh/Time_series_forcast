{
  "nbformat": 4,
  "nbformat_minor": 0,
  "metadata": {
    "colab": {
      "name": "timeseriesforecasting.ipynb",
      "provenance": [],
      "include_colab_link": true
    },
    "kernelspec": {
      "name": "python3",
      "display_name": "Python 3"
    },
    "language_info": {
      "name": "python"
    }
  },
  "cells": [
    {
      "cell_type": "markdown",
      "metadata": {
        "id": "view-in-github",
        "colab_type": "text"
      },
      "source": [
        "<a href=\"https://colab.research.google.com/github/Utkaaarsh/Time_series_forcast/blob/main/timeseriesforecasting.ipynb\" target=\"_parent\"><img src=\"https://colab.research.google.com/assets/colab-badge.svg\" alt=\"Open In Colab\"/></a>"
      ]
    },
    {
      "cell_type": "code",
      "execution_count": 2,
      "metadata": {
        "colab": {
          "base_uri": "https://localhost:8080/"
        },
        "id": "ePByeAbxziaG",
        "outputId": "fde4a072-2076-424c-af6d-102fa44a7dd0"
      },
      "outputs": [
        {
          "output_type": "stream",
          "name": "stdout",
          "text": [
            "Requirement already satisfied: numpy in /usr/local/lib/python3.10/dist-packages (1.26.4)\n"
          ]
        }
      ],
      "source": [
        "pip install numpy"
      ]
    },
    {
      "cell_type": "code",
      "source": [
        "import numpy as np\n",
        "from tensorflow.keras.models import Sequential\n",
        "from tensorflow.keras.layers import LSTM, Dense, Flatten\n"
      ],
      "metadata": {
        "id": "JCqewW3Czoay"
      },
      "execution_count": 1,
      "outputs": []
    },
    {
      "cell_type": "code",
      "source": [
        "# preparing independent & dependent features\n",
        "def prepare_data(timeseries_data, n_features):\n",
        "  X,y = [],[]\n",
        "  for i in range(len(timeseries_data)):\n",
        "    end_ix = i + n_features # 0->3 ,1->4, 2->5\n",
        "    if end_ix > len(timeseries_data) - 1:\n",
        "      break\n",
        "    # gathering input & output parts of the pattern\n",
        "    seq_x, seq_y = timeseries_data[i:end_ix], timeseries_data[end_ix]\n",
        "    X.append(seq_x)\n",
        "    y.append(seq_y)\n",
        "  return np.array(X), np.array(y)\n"
      ],
      "metadata": {
        "id": "u20UydFWz_pu"
      },
      "execution_count": 3,
      "outputs": []
    },
    {
      "cell_type": "code",
      "source": [
        "# define input sequence\n",
        "timeseries_data = [110, 125, 133, 146, 158, 172, 187, 196, 210]\n",
        "\n",
        "# choose a number of time steps\n",
        "n_steps = 3\n",
        "\n",
        "#splitting into samples\n",
        "X, y = prepare_data(timeseries_data, n_steps)\n"
      ],
      "metadata": {
        "id": "AtiECfGo23FU"
      },
      "execution_count": 4,
      "outputs": []
    },
    {
      "cell_type": "code",
      "source": [
        "print(X)\n",
        "print(y)"
      ],
      "metadata": {
        "colab": {
          "base_uri": "https://localhost:8080/"
        },
        "id": "g4UQmqUz4E0H",
        "outputId": "25efe192-a614-4166-ad6b-66c0efbf06f6"
      },
      "execution_count": 5,
      "outputs": [
        {
          "output_type": "stream",
          "name": "stdout",
          "text": [
            "[[110 125 133]\n",
            " [125 133 146]\n",
            " [133 146 158]\n",
            " [146 158 172]\n",
            " [158 172 187]\n",
            " [172 187 196]]\n",
            "[146 158 172 187 196 210]\n"
          ]
        }
      ]
    },
    {
      "cell_type": "code",
      "source": [
        "X.shape , y.shape"
      ],
      "metadata": {
        "colab": {
          "base_uri": "https://localhost:8080/"
        },
        "id": "cqYYte7s4MGn",
        "outputId": "6e0984cb-d766-4f31-dd73-d5c94137cf73"
      },
      "execution_count": 6,
      "outputs": [
        {
          "output_type": "execute_result",
          "data": {
            "text/plain": [
              "((6, 3), (6,))"
            ]
          },
          "metadata": {},
          "execution_count": 6
        }
      ]
    },
    {
      "cell_type": "code",
      "source": [
        "#reshaping [samples, timesteps] into [samples, timesteps, features]\n",
        "n_features = 1\n",
        "X = X.reshape(X.shape[0], X.shape[1], n_features)"
      ],
      "metadata": {
        "id": "CTSDeFzY4p5R"
      },
      "execution_count": 7,
      "outputs": []
    },
    {
      "cell_type": "code",
      "source": [
        "X.shape\n"
      ],
      "metadata": {
        "colab": {
          "base_uri": "https://localhost:8080/"
        },
        "id": "tB8zcgLS5M0r",
        "outputId": "89883c95-e714-414d-a84b-24ae83f8efd6"
      },
      "execution_count": 8,
      "outputs": [
        {
          "output_type": "execute_result",
          "data": {
            "text/plain": [
              "(6, 3, 1)"
            ]
          },
          "metadata": {},
          "execution_count": 8
        }
      ]
    },
    {
      "cell_type": "markdown",
      "source": [
        "Building a LSTM Model"
      ],
      "metadata": {
        "id": "chJCUGqa5Q3a"
      }
    },
    {
      "cell_type": "code",
      "source": [
        "model = Sequential()\n",
        "model.add(LSTM(50, activation='relu', return_sequences=True, input_shape=(n_steps, n_features)))\n",
        "model.add(LSTM(50, activation='relu'))\n",
        "model.add(Dense(1))\n",
        "model.compile(optimizer='adam', loss='mse')\n",
        "\n",
        "#fit model\n",
        "model.fit(X, y, epochs=300, verbose=0)"
      ],
      "metadata": {
        "colab": {
          "base_uri": "https://localhost:8080/"
        },
        "id": "PnlVDRqP5O_o",
        "outputId": "9056c28a-0050-4cac-9572-2bf64c98fd62"
      },
      "execution_count": 9,
      "outputs": [
        {
          "output_type": "stream",
          "name": "stderr",
          "text": [
            "/usr/local/lib/python3.10/dist-packages/keras/src/layers/rnn/rnn.py:204: UserWarning: Do not pass an `input_shape`/`input_dim` argument to a layer. When using Sequential models, prefer using an `Input(shape)` object as the first layer in the model instead.\n",
            "  super().__init__(**kwargs)\n"
          ]
        },
        {
          "output_type": "execute_result",
          "data": {
            "text/plain": [
              "<keras.src.callbacks.history.History at 0x7a8533b26ec0>"
            ]
          },
          "metadata": {},
          "execution_count": 9
        }
      ]
    },
    {
      "cell_type": "markdown",
      "source": [
        "Predicting for next 10 days"
      ],
      "metadata": {
        "id": "maJoPp2FsyNh"
      }
    },
    {
      "cell_type": "code",
      "source": [
        "x_input = np.array([187, 196, 210])\n",
        "temp_input = list(x_input)\n",
        "lst_output = []\n",
        "i=0\n",
        "while(i<10):\n",
        "  if (len(temp_input) > 3):\n",
        "    x_input = np.array(temp_input[1:])\n",
        "    #printing x_input\n",
        "    print('{} day input: {}'.format(i, x_input))\n",
        "    x_input = x_input.reshape((1, n_steps, n_features))\n",
        "    yhat = model.predict(x_input, verbose=0)\n",
        "    print('{} day output: {}'.format(i, yhat[0][0]))\n",
        "    print()\n",
        "    temp_input.append(yhat[0][0])\n",
        "    temp_input = temp_input[1:]\n",
        "    #printing temp_input\n",
        "    lst_output.append(yhat[0][0])\n",
        "    i = i+1\n",
        "\n",
        "  else:\n",
        "    x_input = x_input.reshape((1, n_steps, n_features))\n",
        "    yhat = model.predict(x_input, verbose=0)\n",
        "    #print(yhat.shape)\n",
        "    #print(yhat[0][0])\n",
        "    temp_input.append(yhat[0][0])\n",
        "    lst_output.append(yhat[0][0])\n",
        "    i = i+1"
      ],
      "metadata": {
        "colab": {
          "base_uri": "https://localhost:8080/"
        },
        "id": "AeeE4g55sStS",
        "outputId": "db4493fc-3cf7-42e5-c322-26bd0f0e278b"
      },
      "execution_count": 10,
      "outputs": [
        {
          "output_type": "stream",
          "name": "stdout",
          "text": [
            "1 day input: [196.         210.         223.79199219]\n",
            "1 day output: 234.9921875\n",
            "\n",
            "2 day input: [210.         223.79199219 234.9921875 ]\n",
            "2 day output: 248.8934783935547\n",
            "\n",
            "3 day input: [223.79199 234.99219 248.89348]\n",
            "3 day output: 262.36102294921875\n",
            "\n",
            "4 day input: [234.99219 248.89348 262.36102]\n",
            "4 day output: 275.5837097167969\n",
            "\n",
            "5 day input: [248.89348 262.36102 275.5837 ]\n",
            "5 day output: 290.0932312011719\n",
            "\n",
            "6 day input: [262.36102 275.5837  290.09323]\n",
            "6 day output: 304.6112365722656\n",
            "\n",
            "7 day input: [275.5837  290.09323 304.61124]\n",
            "7 day output: 319.6116943359375\n",
            "\n",
            "8 day input: [290.09323 304.61124 319.6117 ]\n",
            "8 day output: 335.3854064941406\n",
            "\n",
            "9 day input: [304.61124 319.6117  335.3854 ]\n",
            "9 day output: 351.5588073730469\n",
            "\n"
          ]
        }
      ]
    },
    {
      "cell_type": "code",
      "source": [
        "import matplotlib.pyplot as plt\n"
      ],
      "metadata": {
        "id": "OrP19lb_tLOk"
      },
      "execution_count": 11,
      "outputs": []
    },
    {
      "cell_type": "code",
      "source": [
        "timeseries_data"
      ],
      "metadata": {
        "colab": {
          "base_uri": "https://localhost:8080/"
        },
        "id": "S9jWgK0Rxcne",
        "outputId": "afd56614-7a3b-4c9e-e82f-cbc19f597db0"
      },
      "execution_count": null,
      "outputs": [
        {
          "output_type": "execute_result",
          "data": {
            "text/plain": [
              "[110, 125, 133, 146, 158, 172, 187, 196, 210]"
            ]
          },
          "metadata": {},
          "execution_count": 29
        }
      ]
    },
    {
      "cell_type": "code",
      "source": [
        "lst_output"
      ],
      "metadata": {
        "colab": {
          "base_uri": "https://localhost:8080/"
        },
        "id": "XYxmpHXAxf5F",
        "outputId": "f1cbc8c8-5abe-4fe4-de16-89280b9b1ca4"
      },
      "execution_count": 12,
      "outputs": [
        {
          "output_type": "execute_result",
          "data": {
            "text/plain": [
              "[223.79199,\n",
              " 234.99219,\n",
              " 248.89348,\n",
              " 262.36102,\n",
              " 275.5837,\n",
              " 290.09323,\n",
              " 304.61124,\n",
              " 319.6117,\n",
              " 335.3854,\n",
              " 351.5588]"
            ]
          },
          "metadata": {},
          "execution_count": 12
        }
      ]
    },
    {
      "cell_type": "code",
      "source": [
        "day_new = np.arange(1,10)\n",
        "day_pred = np.arange(10,20)\n"
      ],
      "metadata": {
        "id": "CYXLTdpoxi9W"
      },
      "execution_count": 13,
      "outputs": []
    },
    {
      "cell_type": "code",
      "source": [
        "plt.plot(day_new, timeseries_data)\n",
        "plt.plot(day_pred, lst_output)"
      ],
      "metadata": {
        "colab": {
          "base_uri": "https://localhost:8080/",
          "height": 447
        },
        "id": "6BsqBnmfx9IG",
        "outputId": "8894ec90-4f9d-4bb2-a7b1-c07e4075d274"
      },
      "execution_count": 14,
      "outputs": [
        {
          "output_type": "execute_result",
          "data": {
            "text/plain": [
              "[<matplotlib.lines.Line2D at 0x7a85310dffa0>]"
            ]
          },
          "metadata": {},
          "execution_count": 14
        },
        {
          "output_type": "display_data",
          "data": {
            "text/plain": [
              "<Figure size 640x480 with 1 Axes>"
            ],
            "image/png": "[encoded data removed]"
          },
          "metadata": {}
        }
      ]
    },
    {
      "cell_type": "code",
      "source": [
        ""
      ],
      "metadata": {
        "id": "TlGmFRnUyEfS"
      },
      "execution_count": 14,
      "outputs": []
    }
  ]
}