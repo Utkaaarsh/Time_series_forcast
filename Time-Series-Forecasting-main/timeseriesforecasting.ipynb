{
  "cells": [
    {
      "cell_type": "code",
      "execution_count": 1,
      "metadata": {
        "colab": {
          "base_uri": "https://localhost:8080/"
        },
        "id": "ePByeAbxziaG",
        "outputId": "768443bc-3105-4570-dfe3-0bfdf83b2dc3"
      },
      "outputs": [
        {
          "name": "stdout",
          "output_type": "stream",
          "text": [
            "Looking in indexes: https://pypi.org/simple, https://us-python.pkg.dev/colab-wheels/public/simple/\n",
            "Requirement already satisfied: numpy in /usr/local/lib/python3.7/dist-packages (1.21.6)\n"
          ]
        }
      ],
      "source": [
        "pip install numpy"
      ]
    },
    {
      "cell_type": "code",
      "execution_count": 2,
      "metadata": {
        "id": "JCqewW3Czoay"
      },
      "outputs": [],
      "source": [
        "import numpy as np \n",
        "from tensorflow.keras.models import Sequential\n",
        "from tensorflow.keras.layers import LSTM, Dense, Flatten\n"
      ]
    },
    {
      "cell_type": "code",
      "execution_count": 3,
      "metadata": {
        "id": "u20UydFWz_pu"
      },
      "outputs": [],
      "source": [
        "# preparing independent & dependent features\n",
        "def prepare_data(timeseries_data, n_features):\n",
        "  X,y = [],[]\n",
        "  for i in range(len(timeseries_data)):\n",
        "    end_ix = i + n_features # 0->3 ,1->4, 2->5\n",
        "    if end_ix > len(timeseries_data) - 1:\n",
        "      break\n",
        "    # gathering input & output parts of the pattern\n",
        "    seq_x, seq_y = timeseries_data[i:end_ix], timeseries_data[end_ix]\n",
        "    X.append(seq_x)\n",
        "    y.append(seq_y)\n",
        "  return np.array(X), np.array(y)\n"
      ]
    },
    {
      "cell_type": "code",
      "execution_count": 13,
      "metadata": {
        "id": "AtiECfGo23FU"
      },
      "outputs": [],
      "source": [
        "# define input sequence \n",
        "timeseries_data = [110, 125, 133, 146, 158, 172, 187, 196, 210]\n",
        "\n",
        "# choose a number of time steps \n",
        "n_steps = 3\n",
        "\n",
        "#splitting into samples \n",
        "X, y = prepare_data(timeseries_data, n_steps)\n"
      ]
    },
    {
      "cell_type": "code",
      "execution_count": 14,
      "metadata": {
        "colab": {
          "base_uri": "https://localhost:8080/"
        },
        "id": "g4UQmqUz4E0H",
        "outputId": "ef313275-ec57-406b-d9df-c2c509b8b78f"
      },
      "outputs": [
        {
          "name": "stdout",
          "output_type": "stream",
          "text": [
            "[[110 125 133]\n",
            " [125 133 146]\n",
            " [133 146 158]\n",
            " [146 158 172]\n",
            " [158 172 187]\n",
            " [172 187 196]]\n",
            "[146 158 172 187 196 210]\n"
          ]
        }
      ],
      "source": [
        "print(X)\n",
        "print(y)"
      ]
    },
    {
      "cell_type": "code",
      "execution_count": 15,
      "metadata": {
        "colab": {
          "base_uri": "https://localhost:8080/"
        },
        "id": "cqYYte7s4MGn",
        "outputId": "b9ab6ea1-73f0-4393-82fa-a22379d92d9c"
      },
      "outputs": [
        {
          "data": {
            "text/plain": [
              "((6, 3), (6,))"
            ]
          },
          "execution_count": 15,
          "metadata": {},
          "output_type": "execute_result"
        }
      ],
      "source": [
        "X.shape , y.shape "
      ]
    },
    {
      "cell_type": "code",
      "execution_count": 16,
      "metadata": {
        "id": "CTSDeFzY4p5R"
      },
      "outputs": [],
      "source": [
        "#reshaping [samples, timesteps] into [samples, timesteps, features]\n",
        "n_features = 1\n",
        "X = X.reshape(X.shape[0], X.shape[1], n_features)"
      ]
    },
    {
      "cell_type": "code",
      "execution_count": 17,
      "metadata": {
        "colab": {
          "base_uri": "https://localhost:8080/"
        },
        "id": "tB8zcgLS5M0r",
        "outputId": "8a4a86a1-0865-4a38-a7b6-f55a13b95793"
      },
      "outputs": [
        {
          "data": {
            "text/plain": [
              "(6, 3, 1)"
            ]
          },
          "execution_count": 17,
          "metadata": {},
          "output_type": "execute_result"
        }
      ],
      "source": [
        "X.shape\n"
      ]
    },
    {
      "cell_type": "markdown",
      "metadata": {
        "id": "chJCUGqa5Q3a"
      },
      "source": [
        "Building a LSTM Model "
      ]
    },
    {
      "cell_type": "code",
      "execution_count": 26,
      "metadata": {
        "colab": {
          "base_uri": "https://localhost:8080/"
        },
        "id": "PnlVDRqP5O_o",
        "outputId": "a2a6b596-7db9-4390-b275-d7223422af2e"
      },
      "outputs": [
        {
          "data": {
            "text/plain": [
              "<keras.callbacks.History at 0x7f4776603bd0>"
            ]
          },
          "execution_count": 26,
          "metadata": {},
          "output_type": "execute_result"
        }
      ],
      "source": [
        "model = Sequential()\n",
        "model.add(LSTM(50, activation='relu', return_sequences=True, input_shape=(n_steps, n_features)))\n",
        "model.add(LSTM(50, activation='relu'))\n",
        "model.add(Dense(1))\n",
        "model.compile(optimizer='adam', loss='mse')\n",
        "\n",
        "#fit model\n",
        "model.fit(X, y, epochs=300, verbose=0)"
      ]
    },
    {
      "cell_type": "markdown",
      "metadata": {
        "id": "maJoPp2FsyNh"
      },
      "source": [
        "Predicting for next 10 days "
      ]
    },
    {
      "cell_type": "code",
      "execution_count": 27,
      "metadata": {
        "colab": {
          "base_uri": "https://localhost:8080/"
        },
        "id": "AeeE4g55sStS",
        "outputId": "0b8835fe-f0fb-4842-f6de-019a56e48672"
      },
      "outputs": [
        {
          "name": "stdout",
          "output_type": "stream",
          "text": [
            "1 day input: [196.         210.         222.25727844]\n",
            "1 day output: 233.44537353515625\n",
            "\n",
            "2 day input: [210.         222.25727844 233.44537354]\n",
            "2 day output: 247.27455139160156\n",
            "\n",
            "3 day input: [222.25728 233.44537 247.27455]\n",
            "3 day output: 260.36761474609375\n",
            "\n",
            "4 day input: [233.44537 247.27455 260.3676 ]\n",
            "4 day output: 273.72900390625\n",
            "\n",
            "5 day input: [247.27455 260.3676  273.729  ]\n",
            "5 day output: 288.6405334472656\n",
            "\n",
            "6 day input: [260.3676  273.729   288.64053]\n",
            "6 day output: 303.5010986328125\n",
            "\n",
            "7 day input: [273.729   288.64053 303.5011 ]\n",
            "7 day output: 319.1070861816406\n",
            "\n",
            "8 day input: [288.64053 303.5011  319.1071 ]\n",
            "8 day output: 335.8290710449219\n",
            "\n",
            "9 day input: [303.5011  319.1071  335.82907]\n",
            "9 day output: 352.9747314453125\n",
            "\n"
          ]
        }
      ],
      "source": [
        "x_input = np.array([187, 196, 210])\n",
        "temp_input = list(x_input)\n",
        "lst_output = []\n",
        "i=0\n",
        "while(i<10):\n",
        "  if (len(temp_input) > 3):\n",
        "    x_input = np.array(temp_input[1:])\n",
        "    #printing x_input\n",
        "    print('{} day input: {}'.format(i, x_input))\n",
        "    x_input = x_input.reshape((1, n_steps, n_features))\n",
        "    yhat = model.predict(x_input, verbose=0)\n",
        "    print('{} day output: {}'.format(i, yhat[0][0]))\n",
        "    print()\n",
        "    temp_input.append(yhat[0][0])\n",
        "    temp_input = temp_input[1:]\n",
        "    #printing temp_input\n",
        "    lst_output.append(yhat[0][0])\n",
        "    i = i+1\n",
        "\n",
        "  else:\n",
        "    x_input = x_input.reshape((1, n_steps, n_features))\n",
        "    yhat = model.predict(x_input, verbose=0)\n",
        "    #print(yhat.shape)\n",
        "    #print(yhat[0][0])\n",
        "    temp_input.append(yhat[0][0])\n",
        "    lst_output.append(yhat[0][0])\n",
        "    i = i+1"
      ]
    },
    {
      "cell_type": "code",
      "execution_count": 28,
      "metadata": {
        "id": "OrP19lb_tLOk"
      },
      "outputs": [],
      "source": [
        "import matplotlib.pyplot as plt \n"
      ]
    },
    {
      "cell_type": "code",
      "execution_count": 29,
      "metadata": {
        "colab": {
          "base_uri": "https://localhost:8080/"
        },
        "id": "S9jWgK0Rxcne",
        "outputId": "afd56614-7a3b-4c9e-e82f-cbc19f597db0"
      },
      "outputs": [
        {
          "data": {
            "text/plain": [
              "[110, 125, 133, 146, 158, 172, 187, 196, 210]"
            ]
          },
          "execution_count": 29,
          "metadata": {},
          "output_type": "execute_result"
        }
      ],
      "source": [
        "timeseries_data"
      ]
    },
    {
      "cell_type": "code",
      "execution_count": 30,
      "metadata": {
        "colab": {
          "base_uri": "https://localhost:8080/"
        },
        "id": "XYxmpHXAxf5F",
        "outputId": "a13e48c0-7538-4b63-82e3-e5061a3610fb"
      },
      "outputs": [
        {
          "data": {
            "text/plain": [
              "[222.25728,\n",
              " 233.44537,\n",
              " 247.27455,\n",
              " 260.3676,\n",
              " 273.729,\n",
              " 288.64053,\n",
              " 303.5011,\n",
              " 319.1071,\n",
              " 335.82907,\n",
              " 352.97473]"
            ]
          },
          "execution_count": 30,
          "metadata": {},
          "output_type": "execute_result"
        }
      ],
      "source": [
        "lst_output"
      ]
    },
    {
      "cell_type": "code",
      "execution_count": 31,
      "metadata": {
        "id": "CYXLTdpoxi9W"
      },
      "outputs": [],
      "source": [
        "day_new = np.arange(1,10)\n",
        "day_pred = np.arange(10,20)\n"
      ]
    },
    {
      "cell_type": "code",
      "execution_count": 32,
      "metadata": {
        "colab": {
          "base_uri": "https://localhost:8080/",
          "height": 283
        },
        "id": "6BsqBnmfx9IG",
        "outputId": "a308f67c-f94e-4f56-e074-8aa435cd1b20"
      },
      "outputs": [
        {
          "data": {
            "text/plain": [
              "[<matplotlib.lines.Line2D at 0x7f47778be1d0>]"
            ]
          },
          "execution_count": 32,
          "metadata": {},
          "output_type": "execute_result"
        },
        {
          "data": {
            "image/png": "[encoded data removed]",
            "text/plain": [
              "<Figure size 432x288 with 1 Axes>"
            ]
          },
          "metadata": {
            "needs_background": "light"
          },
          "output_type": "display_data"
        }
      ],
      "source": [
        "plt.plot(day_new, timeseries_data)\n",
        "plt.plot(day_pred, lst_output)"
      ]
    },
    {
      "cell_type": "code",
      "execution_count": null,
      "metadata": {
        "id": "TlGmFRnUyEfS"
      },
      "outputs": [],
      "source": [
        "  "
      ]
    }
  ],
  "metadata": {
    "colab": {
      "authorship_tag": "ABX9TyNofL7zJBD57VU72lrEFiEG",
      "collapsed_sections": [],
      "include_colab_link": true,
      "name": "timeseriesforecasting.ipynb",
      "provenance": []
    },
    "kernelspec": {
      "display_name": "Python 3",
      "name": "python3"
    },
    "language_info": {
      "name": "python"
    }
  },
  "nbformat": 4,
  "nbformat_minor": 0
}
